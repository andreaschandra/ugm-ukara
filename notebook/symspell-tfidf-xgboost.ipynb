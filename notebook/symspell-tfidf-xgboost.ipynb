{
 "cells": [
  {
   "cell_type": "markdown",
   "metadata": {},
   "source": [
    "### Spell corrector"
   ]
  },
  {
   "cell_type": "code",
   "execution_count": 6,
   "metadata": {},
   "outputs": [],
   "source": [
    "import os\n",
    "import glob\n",
    "\n",
    "import pandas as pd\n",
    "import numpy as np\n",
    "import seaborn as sns\n",
    "from collections import Counter\n",
    "\n",
    "from nltk.tokenize import word_tokenize\n",
    "from symspellpy.symspellpy import SymSpell, Verbosity\n",
    "\n",
    "from sklearn.model_selection import train_test_split, KFold\n",
    "from sklearn.feature_extraction.text import CountVectorizer, TfidfVectorizer, TfidfTransformer\n",
    "import xgboost as xgb\n",
    "from sklearn.ensemble import AdaBoostClassifier\n",
    "from sklearn.metrics import f1_score, precision_score, recall_score\n",
    "\n",
    "%matplotlib inline"
   ]
  },
  {
   "cell_type": "code",
   "execution_count": 2,
   "metadata": {},
   "outputs": [],
   "source": [
    "data_path = '../data'"
   ]
  },
  {
   "cell_type": "code",
   "execution_count": 3,
   "metadata": {},
   "outputs": [
    {
     "data": {
      "text/plain": [
       "['../data\\\\raw\\\\data-a\\\\data_dev_A.csv',\n",
       " '../data\\\\raw\\\\data-a\\\\data_train_A.csv',\n",
       " '../data\\\\raw\\\\data-a\\\\stimulus dan coding guidelines data A.txt',\n",
       " '../data\\\\raw\\\\data-b\\\\data_dev_B.csv',\n",
       " '../data\\\\raw\\\\data-b\\\\data_train_B.csv',\n",
       " '../data\\\\raw\\\\data-b\\\\stimulus dan coding guidelines data B.txt']"
      ]
     },
     "execution_count": 3,
     "metadata": {},
     "output_type": "execute_result"
    }
   ],
   "source": [
    "glob.glob(os.path.join(data_path, 'raw', '*', '*'))"
   ]
  },
  {
   "cell_type": "code",
   "execution_count": 4,
   "metadata": {},
   "outputs": [],
   "source": [
    "d_train_a = pd.read_csv(\"../data\\\\raw\\\\data-a\\\\data_train_A.csv\")\n",
    "\n",
    "d_train_b = pd.read_csv(\"../data\\\\raw\\\\data-b\\\\data_train_B.csv\")"
   ]
  },
  {
   "cell_type": "code",
   "execution_count": 5,
   "metadata": {},
   "outputs": [],
   "source": [
    "d_dev_a = pd.read_csv(\"../data\\\\raw\\\\data-a\\\\data_dev_A.csv\")\n",
    "\n",
    "d_dev_b = pd.read_csv(\"../data\\\\raw\\\\data-b\\\\data_dev_B.csv\")"
   ]
  },
  {
   "cell_type": "code",
   "execution_count": 35,
   "metadata": {},
   "outputs": [],
   "source": [
    "def spell_corrector(input_term):\n",
    "    # maximum edit distance per dictionary precalculation\n",
    "    max_edit_distance_dictionary = 2\n",
    "    prefix_length = 7\n",
    "    # create object\n",
    "    sym_spell = SymSpell(max_edit_distance_dictionary, prefix_length)\n",
    "    # load dictionary\n",
    "    dictionary_path = os.path.join(\"../data/support/corpus-ref.csv\")\n",
    "    \n",
    "    term_index = 0  # column of the term in the dictionary text file\n",
    "    count_index = 1  # column of the term frequency in the dictionary text file\n",
    "    \n",
    "    if not sym_spell.load_dictionary(dictionary_path, term_index, count_index):\n",
    "        print(\"Dictionary file not found\")\n",
    "        return\n",
    "\n",
    "#     # lookup suggestions for single-word input strings\n",
    "#     input_term = \"mkan\"  # misspelling of \"members\"\n",
    "    \n",
    "#     # max edit distance per lookup\n",
    "#     # (max_edit_distance_lookup <= max_edit_distance_dictionary)\n",
    "    \n",
    "#     max_edit_distance_lookup = 2\n",
    "#     suggestion_verbosity = Verbosity.CLOSEST  # TOP, CLOSEST, ALL\n",
    "#     suggestions = sym_spell.lookup(input_term, suggestion_verbosity,\n",
    "#                                    max_edit_distance_lookup)\n",
    "#     # display suggestion term, term frequency, and edit distance\n",
    "#     for suggestion in suggestions:\n",
    "#         print(\"{}, {}, {}\".format(suggestion.term, suggestion.distance,\n",
    "#                                   suggestion.count))\n",
    "\n",
    "    # lookup suggestions for multi-word input strings (supports compound\n",
    "    # splitting & merging)\n",
    "#     input_term = (\"karena baju fast fasion tdk bertahan lama mereka gunakan wk\")\n",
    "    # max edit distance per lookup (per single word, not per whole input string)\n",
    "    max_edit_distance_lookup = 2\n",
    "    suggestions = sym_spell.lookup_compound(input_term, max_edit_distance_lookup)\n",
    "    # display suggestion term, edit distance, and term frequency\n",
    "    for suggestion in suggestions:\n",
    "#         print(\"{}, {}, {}\".format(suggestion.term, suggestion.distance, suggestion.count))\n",
    "        return suggestion.term\n",
    "        \n",
    "    "
   ]
  },
  {
   "cell_type": "code",
   "execution_count": 36,
   "metadata": {},
   "outputs": [],
   "source": [
    "def cleansing(sentence):\n",
    "    sentence = sentence.lower()\n",
    "    word_list = word_tokenize(sentence)\n",
    "    word_list = [word for word in word_list if len(word) > 1]\n",
    "    sentence = \" \".join(word_list)\n",
    "    sentence = spell_corrector(sentence)\n",
    "    \n",
    "    return sentence"
   ]
  },
  {
   "cell_type": "code",
   "execution_count": 37,
   "metadata": {},
   "outputs": [],
   "source": [
    "d_train_a['response_cleansing'] = d_train_a.RESPONSE.apply(cleansing)\n",
    "d_train_b['response_cleansing'] = d_train_b.RESPONSE.apply(cleansing)\n",
    "d_dev_a['response_cleansing'] = d_dev_a.RESPONSE.apply(cleansing)\n",
    "d_dev_b['response_cleansing'] = d_dev_b.RESPONSE.apply(cleansing)"
   ]
  },
  {
   "cell_type": "markdown",
   "metadata": {},
   "source": [
    "## feature extraction"
   ]
  },
  {
   "cell_type": "code",
   "execution_count": 45,
   "metadata": {},
   "outputs": [],
   "source": [
    "tfidf_a = TfidfVectorizer()\n",
    "tfidf_b = TfidfVectorizer()"
   ]
  },
  {
   "cell_type": "code",
   "execution_count": 46,
   "metadata": {},
   "outputs": [],
   "source": [
    "tfidf_X_a = tfidf_a.fit_transform(d_train_a.response_cleansing)\n",
    "tfidf_X_b = tfidf_b.fit_transform(d_train_b.response_cleansing)"
   ]
  },
  {
   "cell_type": "code",
   "execution_count": 47,
   "metadata": {},
   "outputs": [],
   "source": [
    "tfidf_X_dev_a = tfidf_a.transform(d_dev_a.response_cleansing)\n",
    "tfidf_X_dev_b = tfidf_b.transform(d_dev_b.response_cleansing)"
   ]
  },
  {
   "cell_type": "markdown",
   "metadata": {},
   "source": [
    "### modeling"
   ]
  },
  {
   "cell_type": "code",
   "execution_count": 42,
   "metadata": {},
   "outputs": [],
   "source": [
    "def evaluation(y_true, y_pred):\n",
    "    f1score = f1_score(y_true, y_pred)\n",
    "    prec = precision_score(y_true, y_pred)\n",
    "    recall = recall_score(y_true, y_pred)\n",
    "    \n",
    "    return {'f1score': f1score, 'precision': prec, 'recall': recall}"
   ]
  },
  {
   "cell_type": "code",
   "execution_count": 43,
   "metadata": {},
   "outputs": [],
   "source": [
    "kf = KFold(n_splits=5, random_state=123)"
   ]
  },
  {
   "cell_type": "code",
   "execution_count": 48,
   "metadata": {},
   "outputs": [],
   "source": [
    "score_list = []\n",
    "params = {'booster':'gbtree', 'max_depth': 300, 'eta':1, 'objective':'binary:logistic'}\n",
    "for train, test in kf.split(tfidf_X_a, d_train_a.LABEL):\n",
    "\n",
    "    X_train, y_train = tfidf_X_a[train], np.array(d_train_a.loc[train, 'LABEL'])\n",
    "    X_test, y_test = tfidf_X_a[test], np.array(d_train_a.loc[test, 'LABEL'])\n",
    "\n",
    "    train = xgb.DMatrix(X_train, label=y_train)\n",
    "    test = xgb.DMatrix(X_test)\n",
    "\n",
    "    model_a = xgb.train(params, train, num_boost_round=2)\n",
    "\n",
    "    y_pred = model_a.predict(test)\n",
    "    y_pred = np.where(y_pred > 0.5, 1, 0)\n",
    "\n",
    "    score = evaluation(y_test, y_pred)\n",
    "    score_list.append(score)"
   ]
  },
  {
   "cell_type": "code",
   "execution_count": 50,
   "metadata": {},
   "outputs": [
    {
     "data": {
      "text/html": [
       "<div>\n",
       "<style scoped>\n",
       "    .dataframe tbody tr th:only-of-type {\n",
       "        vertical-align: middle;\n",
       "    }\n",
       "\n",
       "    .dataframe tbody tr th {\n",
       "        vertical-align: top;\n",
       "    }\n",
       "\n",
       "    .dataframe thead th {\n",
       "        text-align: right;\n",
       "    }\n",
       "</style>\n",
       "<table border=\"1\" class=\"dataframe\">\n",
       "  <thead>\n",
       "    <tr style=\"text-align: right;\">\n",
       "      <th></th>\n",
       "      <th>f1score</th>\n",
       "      <th>precision</th>\n",
       "      <th>recall</th>\n",
       "    </tr>\n",
       "  </thead>\n",
       "  <tbody>\n",
       "    <tr>\n",
       "      <th>0</th>\n",
       "      <td>0.811594</td>\n",
       "      <td>0.736842</td>\n",
       "      <td>0.903226</td>\n",
       "    </tr>\n",
       "    <tr>\n",
       "      <th>1</th>\n",
       "      <td>0.870588</td>\n",
       "      <td>0.860465</td>\n",
       "      <td>0.880952</td>\n",
       "    </tr>\n",
       "    <tr>\n",
       "      <th>2</th>\n",
       "      <td>0.833333</td>\n",
       "      <td>0.853659</td>\n",
       "      <td>0.813953</td>\n",
       "    </tr>\n",
       "    <tr>\n",
       "      <th>3</th>\n",
       "      <td>0.891566</td>\n",
       "      <td>0.880952</td>\n",
       "      <td>0.902439</td>\n",
       "    </tr>\n",
       "    <tr>\n",
       "      <th>4</th>\n",
       "      <td>0.800000</td>\n",
       "      <td>0.838710</td>\n",
       "      <td>0.764706</td>\n",
       "    </tr>\n",
       "  </tbody>\n",
       "</table>\n",
       "</div>"
      ],
      "text/plain": [
       "    f1score  precision    recall\n",
       "0  0.811594   0.736842  0.903226\n",
       "1  0.870588   0.860465  0.880952\n",
       "2  0.833333   0.853659  0.813953\n",
       "3  0.891566   0.880952  0.902439\n",
       "4  0.800000   0.838710  0.764706"
      ]
     },
     "execution_count": 50,
     "metadata": {},
     "output_type": "execute_result"
    }
   ],
   "source": [
    "pd.DataFrame(score_list)"
   ]
  },
  {
   "cell_type": "markdown",
   "metadata": {},
   "source": [
    "data b"
   ]
  },
  {
   "cell_type": "code",
   "execution_count": 51,
   "metadata": {},
   "outputs": [],
   "source": [
    "score_list = []\n",
    "params = {'booster':'gbtree', 'max_depth': 3000, 'eta':0.7, 'objective':'binary:logistic'}\n",
    "for thres in [0.5]:\n",
    "    for train, test in kf.split(tfidf_X_b, d_train_b.LABEL):\n",
    "\n",
    "        X_train, y_train = tfidf_X_b[train], np.array(d_train_b.loc[train, 'LABEL'])\n",
    "        X_test, y_test = tfidf_X_b[test], np.array(d_train_b.loc[test, 'LABEL'])\n",
    "\n",
    "        train = xgb.DMatrix(X_train, label=y_train)\n",
    "        test = xgb.DMatrix(X_test)\n",
    "\n",
    "        model_b = xgb.train(params, train, num_boost_round=2)\n",
    "\n",
    "        y_pred = model_b.predict(test)\n",
    "        y_pred = np.where(y_pred > thres, 1, 0)\n",
    "\n",
    "        score = evaluation(y_test, y_pred)\n",
    "        score['thres'] = thres\n",
    "        score_list.append(score)"
   ]
  },
  {
   "cell_type": "code",
   "execution_count": 52,
   "metadata": {},
   "outputs": [
    {
     "data": {
      "text/html": [
       "<div>\n",
       "<style scoped>\n",
       "    .dataframe tbody tr th:only-of-type {\n",
       "        vertical-align: middle;\n",
       "    }\n",
       "\n",
       "    .dataframe tbody tr th {\n",
       "        vertical-align: top;\n",
       "    }\n",
       "\n",
       "    .dataframe thead th {\n",
       "        text-align: right;\n",
       "    }\n",
       "</style>\n",
       "<table border=\"1\" class=\"dataframe\">\n",
       "  <thead>\n",
       "    <tr style=\"text-align: right;\">\n",
       "      <th></th>\n",
       "      <th>f1score</th>\n",
       "      <th>precision</th>\n",
       "      <th>recall</th>\n",
       "      <th>thres</th>\n",
       "    </tr>\n",
       "  </thead>\n",
       "  <tbody>\n",
       "    <tr>\n",
       "      <th>0</th>\n",
       "      <td>0.617647</td>\n",
       "      <td>0.656250</td>\n",
       "      <td>0.583333</td>\n",
       "      <td>0.5</td>\n",
       "    </tr>\n",
       "    <tr>\n",
       "      <th>1</th>\n",
       "      <td>0.657534</td>\n",
       "      <td>0.571429</td>\n",
       "      <td>0.774194</td>\n",
       "      <td>0.5</td>\n",
       "    </tr>\n",
       "    <tr>\n",
       "      <th>2</th>\n",
       "      <td>0.628571</td>\n",
       "      <td>0.578947</td>\n",
       "      <td>0.687500</td>\n",
       "      <td>0.5</td>\n",
       "    </tr>\n",
       "    <tr>\n",
       "      <th>3</th>\n",
       "      <td>0.676056</td>\n",
       "      <td>0.666667</td>\n",
       "      <td>0.685714</td>\n",
       "      <td>0.5</td>\n",
       "    </tr>\n",
       "    <tr>\n",
       "      <th>4</th>\n",
       "      <td>0.702703</td>\n",
       "      <td>0.650000</td>\n",
       "      <td>0.764706</td>\n",
       "      <td>0.5</td>\n",
       "    </tr>\n",
       "  </tbody>\n",
       "</table>\n",
       "</div>"
      ],
      "text/plain": [
       "    f1score  precision    recall  thres\n",
       "0  0.617647   0.656250  0.583333    0.5\n",
       "1  0.657534   0.571429  0.774194    0.5\n",
       "2  0.628571   0.578947  0.687500    0.5\n",
       "3  0.676056   0.666667  0.685714    0.5\n",
       "4  0.702703   0.650000  0.764706    0.5"
      ]
     },
     "execution_count": 52,
     "metadata": {},
     "output_type": "execute_result"
    }
   ],
   "source": [
    "pd.DataFrame(score_list)"
   ]
  },
  {
   "cell_type": "code",
   "execution_count": null,
   "metadata": {},
   "outputs": [],
   "source": []
  }
 ],
 "metadata": {
  "kernelspec": {
   "display_name": "Python 3",
   "language": "python",
   "name": "python3"
  },
  "language_info": {
   "codemirror_mode": {
    "name": "ipython",
    "version": 3
   },
   "file_extension": ".py",
   "mimetype": "text/x-python",
   "name": "python",
   "nbconvert_exporter": "python",
   "pygments_lexer": "ipython3",
   "version": "3.7.3"
  }
 },
 "nbformat": 4,
 "nbformat_minor": 2
}
