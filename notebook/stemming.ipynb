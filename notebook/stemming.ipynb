{
 "cells": [
  {
   "cell_type": "code",
   "execution_count": 2,
   "metadata": {},
   "outputs": [],
   "source": [
    "import os\n",
    "import glob\n",
    "\n",
    "import pandas as pd\n",
    "import numpy as np\n",
    "import seaborn as sns\n",
    "from collections import Counter\n",
    "\n",
    "from nltk.tokenize import word_tokenize\n",
    "from Sastrawi.Stemmer.StemmerFactory import StemmerFactory\n",
    "\n",
    "from sklearn.model_selection import train_test_split, KFold\n",
    "from sklearn.feature_extraction.text import CountVectorizer, TfidfVectorizer, TfidfTransformer\n",
    "import xgboost as xgb\n",
    "from sklearn.ensemble import AdaBoostClassifier\n",
    "from sklearn.metrics import f1_score, precision_score, recall_score\n",
    "\n",
    "%matplotlib inline"
   ]
  },
  {
   "cell_type": "code",
   "execution_count": 3,
   "metadata": {},
   "outputs": [
    {
     "data": {
      "text/plain": [
       "['../data\\\\raw\\\\data-a\\\\data_dev_A.csv',\n",
       " '../data\\\\raw\\\\data-a\\\\data_train_A.csv',\n",
       " '../data\\\\raw\\\\data-a\\\\stimulus dan coding guidelines data A.txt',\n",
       " '../data\\\\raw\\\\data-b\\\\data_dev_B.csv',\n",
       " '../data\\\\raw\\\\data-b\\\\data_train_B.csv',\n",
       " '../data\\\\raw\\\\data-b\\\\stimulus dan coding guidelines data B.txt']"
      ]
     },
     "execution_count": 3,
     "metadata": {},
     "output_type": "execute_result"
    }
   ],
   "source": [
    "data_path = '../data'\n",
    "\n",
    "files = glob.glob(os.path.join(data_path, 'raw', '*', '*'))\n",
    "\n",
    "files"
   ]
  },
  {
   "cell_type": "code",
   "execution_count": 4,
   "metadata": {},
   "outputs": [],
   "source": [
    "d_train_a = pd.read_csv(\"../data\\\\raw\\\\data-a\\\\data_train_A.csv\")\n",
    "d_train_b = pd.read_csv(\"../data\\\\raw\\\\data-b\\\\data_train_B.csv\")\n",
    "\n",
    "d_dev_a = pd.read_csv(\"../data\\\\raw\\\\data-a\\\\data_dev_A.csv\")\n",
    "d_dev_b = pd.read_csv(\"../data\\\\raw\\\\data-b\\\\data_dev_B.csv\")"
   ]
  },
  {
   "cell_type": "code",
   "execution_count": 6,
   "metadata": {},
   "outputs": [],
   "source": [
    "factory = StemmerFactory()\n",
    "stemmer = factory.create_stemmer()"
   ]
  },
  {
   "cell_type": "code",
   "execution_count": 8,
   "metadata": {},
   "outputs": [],
   "source": [
    "def cleansing(sentence):\n",
    "    sentence = sentence.lower()\n",
    "    word_list = word_tokenize(sentence)\n",
    "    word_list = [word for word in word_list if len(word) > 1]\n",
    "    word_list = [stemmer.stem(word) for word in word_list]\n",
    "    sentence = \" \".join(word_list)\n",
    "    \n",
    "    return sentence"
   ]
  },
  {
   "cell_type": "code",
   "execution_count": 9,
   "metadata": {},
   "outputs": [],
   "source": [
    "d_train_a['response_cleansing'] = d_train_a.RESPONSE.apply(cleansing)\n",
    "d_train_b['response_cleansing'] = d_train_b.RESPONSE.apply(cleansing)\n",
    "d_dev_a['response_cleansing'] = d_dev_a.RESPONSE.apply(cleansing)\n",
    "d_dev_b['response_cleansing'] = d_dev_b.RESPONSE.apply(cleansing)"
   ]
  },
  {
   "cell_type": "markdown",
   "metadata": {},
   "source": [
    "## feature extraction"
   ]
  },
  {
   "cell_type": "code",
   "execution_count": 11,
   "metadata": {},
   "outputs": [],
   "source": [
    "tfidf_a = TfidfVectorizer()\n",
    "tfidf_b = TfidfVectorizer()"
   ]
  },
  {
   "cell_type": "code",
   "execution_count": 12,
   "metadata": {},
   "outputs": [],
   "source": [
    "X_a = tfidf_a.fit_transform(d_train_a.response_cleansing)\n",
    "X_b = tfidf_a.fit_transform(d_train_a.response_cleansing)"
   ]
  },
  {
   "cell_type": "code",
   "execution_count": 13,
   "metadata": {},
   "outputs": [],
   "source": [
    "X_dev_a = tfidf_a.transform(d_dev_a.response_cleansing)\n",
    "X_dev_b = tfidf_a.transform(d_dev_b.response_cleansing)"
   ]
  },
  {
   "cell_type": "markdown",
   "metadata": {},
   "source": [
    "## modeling"
   ]
  },
  {
   "cell_type": "code",
   "execution_count": 15,
   "metadata": {},
   "outputs": [],
   "source": [
    "def evaluation(y_true, y_pred):\n",
    "    f1score = f1_score(y_true, y_pred)\n",
    "    prec = precision_score(y_true, y_pred)\n",
    "    recall = recall_score(y_true, y_pred)\n",
    "    \n",
    "    return {'f1score': f1score, 'precision': prec, 'recall': recall}"
   ]
  },
  {
   "cell_type": "code",
   "execution_count": 16,
   "metadata": {},
   "outputs": [],
   "source": [
    "kf = KFold(n_splits=5)"
   ]
  },
  {
   "cell_type": "markdown",
   "metadata": {},
   "source": [
    "data a"
   ]
  },
  {
   "cell_type": "code",
   "execution_count": 17,
   "metadata": {},
   "outputs": [],
   "source": [
    "score_list = []\n",
    "params = {'booster':'gbtree', 'max_depth': 300, 'eta':1, 'objective':'binary:logistic'}\n",
    "for train, test in kf.split(X_a, d_train_a.LABEL):\n",
    "\n",
    "    X_train, y_train = X_a[train], np.array(d_train_a.loc[train, 'LABEL'])\n",
    "    X_test, y_test = X_a[test], np.array(d_train_a.loc[test, 'LABEL'])\n",
    "\n",
    "    train = xgb.DMatrix(X_train, label=y_train)\n",
    "    test = xgb.DMatrix(X_test)\n",
    "\n",
    "    model_a = xgb.train(params, train, num_boost_round=2)\n",
    "\n",
    "    y_pred = model_a.predict(test)\n",
    "    y_pred = np.where(y_pred > 0.5, 1, 0)\n",
    "\n",
    "    score = evaluation(y_test, y_pred)\n",
    "    score_list.append(score)"
   ]
  },
  {
   "cell_type": "code",
   "execution_count": 18,
   "metadata": {},
   "outputs": [
    {
     "data": {
      "text/html": [
       "<div>\n",
       "<style scoped>\n",
       "    .dataframe tbody tr th:only-of-type {\n",
       "        vertical-align: middle;\n",
       "    }\n",
       "\n",
       "    .dataframe tbody tr th {\n",
       "        vertical-align: top;\n",
       "    }\n",
       "\n",
       "    .dataframe thead th {\n",
       "        text-align: right;\n",
       "    }\n",
       "</style>\n",
       "<table border=\"1\" class=\"dataframe\">\n",
       "  <thead>\n",
       "    <tr style=\"text-align: right;\">\n",
       "      <th></th>\n",
       "      <th>f1score</th>\n",
       "      <th>precision</th>\n",
       "      <th>recall</th>\n",
       "    </tr>\n",
       "  </thead>\n",
       "  <tbody>\n",
       "    <tr>\n",
       "      <th>0</th>\n",
       "      <td>0.861538</td>\n",
       "      <td>0.823529</td>\n",
       "      <td>0.903226</td>\n",
       "    </tr>\n",
       "    <tr>\n",
       "      <th>1</th>\n",
       "      <td>0.839506</td>\n",
       "      <td>0.871795</td>\n",
       "      <td>0.809524</td>\n",
       "    </tr>\n",
       "    <tr>\n",
       "      <th>2</th>\n",
       "      <td>0.843373</td>\n",
       "      <td>0.875000</td>\n",
       "      <td>0.813953</td>\n",
       "    </tr>\n",
       "    <tr>\n",
       "      <th>3</th>\n",
       "      <td>0.902439</td>\n",
       "      <td>0.902439</td>\n",
       "      <td>0.902439</td>\n",
       "    </tr>\n",
       "    <tr>\n",
       "      <th>4</th>\n",
       "      <td>0.800000</td>\n",
       "      <td>0.838710</td>\n",
       "      <td>0.764706</td>\n",
       "    </tr>\n",
       "  </tbody>\n",
       "</table>\n",
       "</div>"
      ],
      "text/plain": [
       "    f1score  precision    recall\n",
       "0  0.861538   0.823529  0.903226\n",
       "1  0.839506   0.871795  0.809524\n",
       "2  0.843373   0.875000  0.813953\n",
       "3  0.902439   0.902439  0.902439\n",
       "4  0.800000   0.838710  0.764706"
      ]
     },
     "execution_count": 18,
     "metadata": {},
     "output_type": "execute_result"
    }
   ],
   "source": [
    "pd.DataFrame(score_list)"
   ]
  },
  {
   "cell_type": "markdown",
   "metadata": {},
   "source": [
    "data b"
   ]
  },
  {
   "cell_type": "code",
   "execution_count": 21,
   "metadata": {},
   "outputs": [],
   "source": [
    "score_list = []\n",
    "params = {'booster':'gbtree', 'max_depth': 300, 'eta':1, 'objective':'binary:logistic'}\n",
    "for train, test in kf.split(X_b, d_train_a.LABEL):\n",
    "\n",
    "    X_train, y_train = X_b[train], np.array(d_train_a.loc[train, 'LABEL'])\n",
    "    X_test, y_test = X_b[test], np.array(d_train_a.loc[test, 'LABEL'])\n",
    "\n",
    "    train = xgb.DMatrix(X_train, label=y_train)\n",
    "    test = xgb.DMatrix(X_test)\n",
    "\n",
    "    model_b = xgb.train(params, train, num_boost_round=2)\n",
    "\n",
    "    y_pred = model_b.predict(test)\n",
    "    y_pred = np.where(y_pred > 0.5, 1, 0)\n",
    "\n",
    "    score = evaluation(y_test, y_pred)\n",
    "    score_list.append(score)"
   ]
  },
  {
   "cell_type": "code",
   "execution_count": 22,
   "metadata": {},
   "outputs": [
    {
     "data": {
      "text/html": [
       "<div>\n",
       "<style scoped>\n",
       "    .dataframe tbody tr th:only-of-type {\n",
       "        vertical-align: middle;\n",
       "    }\n",
       "\n",
       "    .dataframe tbody tr th {\n",
       "        vertical-align: top;\n",
       "    }\n",
       "\n",
       "    .dataframe thead th {\n",
       "        text-align: right;\n",
       "    }\n",
       "</style>\n",
       "<table border=\"1\" class=\"dataframe\">\n",
       "  <thead>\n",
       "    <tr style=\"text-align: right;\">\n",
       "      <th></th>\n",
       "      <th>f1score</th>\n",
       "      <th>precision</th>\n",
       "      <th>recall</th>\n",
       "    </tr>\n",
       "  </thead>\n",
       "  <tbody>\n",
       "    <tr>\n",
       "      <th>0</th>\n",
       "      <td>0.861538</td>\n",
       "      <td>0.823529</td>\n",
       "      <td>0.903226</td>\n",
       "    </tr>\n",
       "    <tr>\n",
       "      <th>1</th>\n",
       "      <td>0.839506</td>\n",
       "      <td>0.871795</td>\n",
       "      <td>0.809524</td>\n",
       "    </tr>\n",
       "    <tr>\n",
       "      <th>2</th>\n",
       "      <td>0.843373</td>\n",
       "      <td>0.875000</td>\n",
       "      <td>0.813953</td>\n",
       "    </tr>\n",
       "    <tr>\n",
       "      <th>3</th>\n",
       "      <td>0.902439</td>\n",
       "      <td>0.902439</td>\n",
       "      <td>0.902439</td>\n",
       "    </tr>\n",
       "    <tr>\n",
       "      <th>4</th>\n",
       "      <td>0.800000</td>\n",
       "      <td>0.838710</td>\n",
       "      <td>0.764706</td>\n",
       "    </tr>\n",
       "  </tbody>\n",
       "</table>\n",
       "</div>"
      ],
      "text/plain": [
       "    f1score  precision    recall\n",
       "0  0.861538   0.823529  0.903226\n",
       "1  0.839506   0.871795  0.809524\n",
       "2  0.843373   0.875000  0.813953\n",
       "3  0.902439   0.902439  0.902439\n",
       "4  0.800000   0.838710  0.764706"
      ]
     },
     "execution_count": 22,
     "metadata": {},
     "output_type": "execute_result"
    }
   ],
   "source": [
    "pd.DataFrame(score_list)"
   ]
  },
  {
   "cell_type": "markdown",
   "metadata": {},
   "source": [
    "## prediction"
   ]
  },
  {
   "cell_type": "code",
   "execution_count": 23,
   "metadata": {},
   "outputs": [],
   "source": [
    "X_dev_a = xgb.DMatrix(X_dev_a)\n",
    "y_pred_a = model_a.predict(X_dev_a)\n",
    "\n",
    "y_pred_a = np.where(y_pred_a > 0.5, 1, 0)"
   ]
  },
  {
   "cell_type": "code",
   "execution_count": 24,
   "metadata": {},
   "outputs": [],
   "source": [
    "X_dev_b = xgb.DMatrix(X_dev_b)\n",
    "y_pred_b = model_b.predict(X_dev_b)\n",
    "\n",
    "y_pred_b = np.where(y_pred_b > 0.5, 1, 0)"
   ]
  },
  {
   "cell_type": "code",
   "execution_count": 25,
   "metadata": {},
   "outputs": [],
   "source": [
    "d_dev_a['LABEL'] = y_pred_a\n",
    "\n",
    "d_dev_b['LABEL'] = y_pred_b"
   ]
  },
  {
   "cell_type": "code",
   "execution_count": 26,
   "metadata": {},
   "outputs": [],
   "source": [
    "d_dev = d_dev_a.append(d_dev_b)\n",
    "\n",
    "d_dev.reset_index(drop=True, inplace=True)"
   ]
  },
  {
   "cell_type": "code",
   "execution_count": 27,
   "metadata": {},
   "outputs": [],
   "source": [
    "output_path = os.path.join(data_path, \"output\", \"predictions_dev.json\")"
   ]
  },
  {
   "cell_type": "code",
   "execution_count": 28,
   "metadata": {},
   "outputs": [],
   "source": [
    "d_dev[[\"RES_ID\", \"LABEL\"]].to_json(output_path, orient='records')"
   ]
  },
  {
   "cell_type": "code",
   "execution_count": null,
   "metadata": {},
   "outputs": [],
   "source": []
  }
 ],
 "metadata": {
  "kernelspec": {
   "display_name": "Python 3",
   "language": "python",
   "name": "python3"
  },
  "language_info": {
   "codemirror_mode": {
    "name": "ipython",
    "version": 3
   },
   "file_extension": ".py",
   "mimetype": "text/x-python",
   "name": "python",
   "nbconvert_exporter": "python",
   "pygments_lexer": "ipython3",
   "version": "3.7.3"
  }
 },
 "nbformat": 4,
 "nbformat_minor": 2
}
