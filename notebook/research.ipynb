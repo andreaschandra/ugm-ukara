{
 "cells": [
  {
   "cell_type": "code",
   "execution_count": 1,
   "metadata": {},
   "outputs": [],
   "source": [
    "import os\n",
    "import glob\n",
    "\n",
    "import pandas as pd\n",
    "import numpy as np\n",
    "\n",
    "from nltk.tokenize import word_tokenize\n",
    "\n",
    "from sklearn.ensemble import AdaBoostClassifier\n",
    "from sklearn import svm\n",
    "from sklearn.model_selection import train_test_split, KFold\n",
    "from sklearn.feature_extraction.text import CountVectorizer, TfidfVectorizer\n",
    "from sklearn.naive_bayes import MultinomialNB\n",
    "from sklearn.metrics import accuracy_score, f1_score, precision_score, recall_score, roc_curve, auc, confusion_matrix\n",
    "\n",
    "%matplotlib inline"
   ]
  },
  {
   "cell_type": "code",
   "execution_count": 2,
   "metadata": {},
   "outputs": [],
   "source": [
    "data_path = 'data'\n",
    "files = glob.glob(os.path.join(data_path, '*', '*'))"
   ]
  },
  {
   "cell_type": "code",
   "execution_count": 3,
   "metadata": {},
   "outputs": [],
   "source": [
    "train = pd.read_csv(files[3])"
   ]
  },
  {
   "cell_type": "code",
   "execution_count": 4,
   "metadata": {},
   "outputs": [],
   "source": [
    "train.reset_index(drop = True, inplace = True)"
   ]
  },
  {
   "cell_type": "code",
   "execution_count": 5,
   "metadata": {},
   "outputs": [],
   "source": [
    "stopwords = open('stopwords-id.txt', 'r').read().splitlines()\n",
    "\n",
    "def cleansing(sentence):\n",
    "    sentence = sentence.lower()\n",
    "    word_list = word_tokenize(sentence)\n",
    "#     word_list = [word for word in word_list if len(word) > 2 and word not in stopwords]\n",
    "    word_list = [word for word in word_list if len(word) > 2]\n",
    "    sentence = \" \".join(word_list)\n",
    "    \n",
    "    return sentence\n",
    "\n",
    "train['response_cleansing'] = train.RESPONSE.apply(cleansing)"
   ]
  },
  {
   "cell_type": "code",
   "execution_count": 7,
   "metadata": {},
   "outputs": [],
   "source": [
    "# train\n",
    "# train.groupby('LABEL').count()"
   ]
  },
  {
   "cell_type": "code",
   "execution_count": 11,
   "metadata": {
    "scrolled": true
   },
   "outputs": [
    {
     "name": "stdout",
     "output_type": "stream",
     "text": [
      "accuracy 0.639344262295082\n",
      "f1 score 0.725\n",
      "precision 0.8529411764705882\n",
      "recall 0.6304347826086957\n",
      "tpr 0.6304347826086957\n",
      "fpr 0.3333333333333333\n"
     ]
    },
    {
     "name": "stderr",
     "output_type": "stream",
     "text": [
      "/home/arynas/.virtualenvs/ugm-ukara/lib/python3.6/site-packages/sklearn/feature_extraction/text.py:300: UserWarning: Your stop_words may be inconsistent with your preprocessing. Tokenizing the stop words generated tokens ['baiknya', 'berkali', 'kali', 'kurangnya', 'mata', 'olah', 'sekurang', 'setidak', 'tama', 'tidaknya'] not in stop_words.\n",
      "  'stop_words.' % sorted(inconsistent))\n"
     ]
    }
   ],
   "source": [
    "# Train, Test = train_test_split(train, test_size=0.2, stratify=train['LABEL'], random_state=0)\n",
    "\n",
    "# cv = CountVectorizer(analyzer=\"word\", ngram_range=(1,1), stop_words=stopwords, lowercase=True)\n",
    "\n",
    "# train_vect = cv.fit_transform(Train['response_cleansing'].astype(str)) #fit transform pada data train A\n",
    "# test_vect = cv.transform(Test['response_cleansing'].astype(str)) #transform data test\n",
    "\n",
    "# mnb = MultinomialNB()\n",
    "# mnb.fit(train_vect, Train['LABEL'])\n",
    "# res_cv = mnb.predict(test_vect)\n",
    "\n",
    "# print(\"accuracy\", accuracy_score(res_cv, Test['LABEL']))\n",
    "# print(\"f1 score\", f1_score(res_cv, Test['LABEL']))\n",
    "# print(\"precision\", precision_score(res_cv, Test['LABEL']))\n",
    "# print(\"recall\", recall_score(res_cv, Test['LABEL']))\n",
    "# tn_dev, fp_dev, fn_dev, tp_dev = confusion_matrix(res_cv, Test['LABEL']).ravel()\n",
    "# tpr = tp_dev/(tp_dev+fn_dev)\n",
    "# fpr = fp_dev/(fp_dev+tn_dev)\n",
    "# print(\"tpr\", tpr)\n",
    "# print(\"fpr\", fpr)"
   ]
  },
  {
   "cell_type": "code",
   "execution_count": null,
   "metadata": {},
   "outputs": [],
   "source": [
    "# Feature Extraction with Count Vectorizer\n",
    "cv = CountVectorizer(analyzer=\"word\", ngram_range=(1,1), stop_words=stopwords, lowercase=True)\n",
    "# X = cv.fit_transform(train.response_cleansing)\n",
    "X = cv.fit_transform(train.response_cleansing.astype(str))\n",
    "# Y = train.LABEL\n",
    "Y = cv.transform(train.LABEL.astype(str))\n",
    "\n",
    "# # Feature Extraction with TF IDF\n",
    "# tfidf = TfidfVectorizer()\n",
    "# # X = tfidf.fit_transform(train.response_cleansing)\n",
    "# X = tfidf.fit_transform(train.response_cleansing.astype(str))\n",
    "# # Y = train.LABEL\n",
    "# Y = tfidf.transform(train.LABEL.astype(str))\n",
    "\n",
    "def evaluation(pred, y_label):\n",
    "    accuracy = accuracy_score(pred, y_label)\n",
    "    f1score = f1_score(pred, y_label)\n",
    "    prec = precision_score(pred, y_label)\n",
    "    recall = recall_score(pred, y_label)\n",
    "#     fpr, tpr, thresholds = roc_curve(pred, y_label)\n",
    "\n",
    "    tn_dev, fp_dev, fn_dev, tp_dev = confusion_matrix(pred, y_label).ravel()\n",
    "    tpr = tp_dev/(tp_dev+fn_dev)\n",
    "    fpr = fp_dev/(fp_dev+tn_dev)\n",
    "    \n",
    "#     return {'f1score': f1score, 'precision': prec, 'recall': recall, 'fpr': fpr[1], 'tpr': tpr[1]}\n",
    "    return {'accuracy': accuracy, 'f1score': f1score, 'precision': prec, 'recall': recall, 'fpr': fpr, 'tpr': tpr}\n",
    "\n",
    "kf = KFold(n_splits=5)\n",
    "\n",
    "score = []\n",
    "for tr, ts in kf.split(X, Y):\n",
    "    X_train, y_train = X[tr], train.loc[tr, 'LABEL']\n",
    "    X_test, y_test = X[ts], train.loc[ts, 'LABEL']\n",
    "    \n",
    "#     mnb = MultinomialNB()\n",
    "#     mnb.fit(X_train, y_train)\n",
    "#     res = mnb.predict(X_test)\n",
    "    \n",
    "#     svc = svm.SVC(gamma=0.01, C=100., probability=True)\n",
    "#     svc.fit(X_train, y_train)\n",
    "#     res = svc.predict(X_test)\n",
    "\n",
    "    adb = AdaBoostClassifier()\n",
    "    adb.fit(X_train , y_train)\n",
    "    res = adb.predict(X_test)\n",
    "    \n",
    "    score.append(evaluation(res, y_test))\n",
    "    \n",
    "pd.DataFrame(score)"
   ]
  }
 ],
 "metadata": {
  "kernelspec": {
   "display_name": "Python 3",
   "language": "python",
   "name": "python3"
  },
  "language_info": {
   "codemirror_mode": {
    "name": "ipython",
    "version": 3
   },
   "file_extension": ".py",
   "mimetype": "text/x-python",
   "name": "python",
   "nbconvert_exporter": "python",
   "pygments_lexer": "ipython3",
   "version": "3.6.8"
  }
 },
 "nbformat": 4,
 "nbformat_minor": 2
}
