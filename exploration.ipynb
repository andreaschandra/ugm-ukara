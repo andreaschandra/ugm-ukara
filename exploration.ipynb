{
 "cells": [
  {
   "cell_type": "markdown",
   "metadata": {},
   "source": [
    "# Exploration"
   ]
  },
  {
   "cell_type": "code",
   "execution_count": 4,
   "metadata": {},
   "outputs": [],
   "source": [
    "import os\n",
    "import glob\n",
    "from collections import Counter\n",
    "\n",
    "import pandas as pd\n",
    "import numpy as np\n",
    "import seaborn as sns\n",
    "\n",
    "from nltk.tokenize import word_tokenize\n",
    "\n",
    "%matplotlib inline"
   ]
  },
  {
   "cell_type": "code",
   "execution_count": 5,
   "metadata": {},
   "outputs": [],
   "source": [
    "data_path = 'data'"
   ]
  },
  {
   "cell_type": "code",
   "execution_count": 6,
   "metadata": {},
   "outputs": [],
   "source": [
    "files = glob.glob(os.path.join(data_path, '*', '*'))"
   ]
  },
  {
   "cell_type": "code",
   "execution_count": 7,
   "metadata": {},
   "outputs": [
    {
     "data": {
      "text/plain": [
       "['data\\\\Data A\\\\data_dev_A.csv',\n",
       " 'data\\\\Data A\\\\data_train_A.csv',\n",
       " 'data\\\\Data A\\\\stimulus dan coding guidelines data A.txt',\n",
       " 'data\\\\Data B\\\\data_dev_B.csv',\n",
       " 'data\\\\Data B\\\\data_train_B.csv',\n",
       " 'data\\\\Data B\\\\stimulus dan coding guidelines data B.txt']"
      ]
     },
     "execution_count": 7,
     "metadata": {},
     "output_type": "execute_result"
    }
   ],
   "source": [
    "files"
   ]
  },
  {
   "cell_type": "code",
   "execution_count": 8,
   "metadata": {},
   "outputs": [],
   "source": [
    "d_train_a = pd.read_csv('data/Data A/data_train_A.csv')"
   ]
  },
  {
   "cell_type": "code",
   "execution_count": 9,
   "metadata": {},
   "outputs": [],
   "source": [
    "d_train_b = pd.read_csv('data/Data B/data_train_B.csv')"
   ]
  },
  {
   "cell_type": "code",
   "execution_count": 10,
   "metadata": {},
   "outputs": [],
   "source": [
    "d_dev_a = pd.read_csv('data/Data A/data_dev_A.csv')"
   ]
  },
  {
   "cell_type": "code",
   "execution_count": 11,
   "metadata": {},
   "outputs": [],
   "source": [
    "d_dev_b = pd.read_csv('data/Data B/data_dev_B.csv')"
   ]
  },
  {
   "cell_type": "code",
   "execution_count": 12,
   "metadata": {},
   "outputs": [
    {
     "data": {
      "text/html": [
       "<div>\n",
       "<style scoped>\n",
       "    .dataframe tbody tr th:only-of-type {\n",
       "        vertical-align: middle;\n",
       "    }\n",
       "\n",
       "    .dataframe tbody tr th {\n",
       "        vertical-align: top;\n",
       "    }\n",
       "\n",
       "    .dataframe thead th {\n",
       "        text-align: right;\n",
       "    }\n",
       "</style>\n",
       "<table border=\"1\" class=\"dataframe\">\n",
       "  <thead>\n",
       "    <tr style=\"text-align: right;\">\n",
       "      <th></th>\n",
       "      <th>RES_ID</th>\n",
       "      <th>RESPONSE</th>\n",
       "      <th>LABEL</th>\n",
       "    </tr>\n",
       "  </thead>\n",
       "  <tbody>\n",
       "    <tr>\n",
       "      <th>0</th>\n",
       "      <td>TRA1</td>\n",
       "      <td>intetraksi/beradaptasi terhadap lingkungan yan...</td>\n",
       "      <td>1</td>\n",
       "    </tr>\n",
       "    <tr>\n",
       "      <th>1</th>\n",
       "      <td>TRA2</td>\n",
       "      <td>seperti jatuhnya meteor tsunami gempa bumi</td>\n",
       "      <td>0</td>\n",
       "    </tr>\n",
       "    <tr>\n",
       "      <th>2</th>\n",
       "      <td>TRA3</td>\n",
       "      <td>hanya tuhan yang tahu tantangan nya itu apaan</td>\n",
       "      <td>0</td>\n",
       "    </tr>\n",
       "    <tr>\n",
       "      <th>3</th>\n",
       "      <td>TRA4</td>\n",
       "      <td>mereka akan sulit beradaptasi</td>\n",
       "      <td>1</td>\n",
       "    </tr>\n",
       "    <tr>\n",
       "      <th>4</th>\n",
       "      <td>TRA5</td>\n",
       "      <td>Tempat tinggal, ekonomi, dan pekerjaan</td>\n",
       "      <td>1</td>\n",
       "    </tr>\n",
       "    <tr>\n",
       "      <th>5</th>\n",
       "      <td>TRA6</td>\n",
       "      <td>akan terganggu dengan kesehatanya karena merek...</td>\n",
       "      <td>1</td>\n",
       "    </tr>\n",
       "    <tr>\n",
       "      <th>6</th>\n",
       "      <td>TRA7</td>\n",
       "      <td>Mereka tidak akan di hormati oleh orang layakn...</td>\n",
       "      <td>0</td>\n",
       "    </tr>\n",
       "    <tr>\n",
       "      <th>7</th>\n",
       "      <td>TRA8</td>\n",
       "      <td>mereka akan kehilangan lahan pertanian.</td>\n",
       "      <td>1</td>\n",
       "    </tr>\n",
       "    <tr>\n",
       "      <th>8</th>\n",
       "      <td>TRA9</td>\n",
       "      <td>Pada kasus-kasus seperti salah satunya yang te...</td>\n",
       "      <td>0</td>\n",
       "    </tr>\n",
       "    <tr>\n",
       "      <th>9</th>\n",
       "      <td>TRA10</td>\n",
       "      <td>mendapat musibah dan melawannya</td>\n",
       "      <td>0</td>\n",
       "    </tr>\n",
       "    <tr>\n",
       "      <th>10</th>\n",
       "      <td>TRA11</td>\n",
       "      <td>karena mereka butuh tempat tinggal baru</td>\n",
       "      <td>1</td>\n",
       "    </tr>\n",
       "    <tr>\n",
       "      <th>11</th>\n",
       "      <td>TRA12</td>\n",
       "      <td>Akan kehilangan tempat tinggal yang lama atau ...</td>\n",
       "      <td>0</td>\n",
       "    </tr>\n",
       "    <tr>\n",
       "      <th>12</th>\n",
       "      <td>TRA13</td>\n",
       "      <td>mereka akan pindah ke tempat yang dulu</td>\n",
       "      <td>0</td>\n",
       "    </tr>\n",
       "    <tr>\n",
       "      <th>13</th>\n",
       "      <td>TRA14</td>\n",
       "      <td>beradaptasi</td>\n",
       "      <td>1</td>\n",
       "    </tr>\n",
       "    <tr>\n",
       "      <th>14</th>\n",
       "      <td>TRA15</td>\n",
       "      <td>Pengungsi iklim ini orang-orang yang terpaksa ...</td>\n",
       "      <td>0</td>\n",
       "    </tr>\n",
       "    <tr>\n",
       "      <th>15</th>\n",
       "      <td>TRA16</td>\n",
       "      <td>karna mereka tidak mau terkena iklim yang sang...</td>\n",
       "      <td>0</td>\n",
       "    </tr>\n",
       "    <tr>\n",
       "      <th>16</th>\n",
       "      <td>TRA17</td>\n",
       "      <td>keadaan yg tidak memadai serta kurangnya fasil...</td>\n",
       "      <td>1</td>\n",
       "    </tr>\n",
       "    <tr>\n",
       "      <th>17</th>\n",
       "      <td>TRA18</td>\n",
       "      <td>Pengungsi iklim adalah orang-orang yang terpak...</td>\n",
       "      <td>0</td>\n",
       "    </tr>\n",
       "    <tr>\n",
       "      <th>18</th>\n",
       "      <td>TRA19</td>\n",
       "      <td>fkjgrioejtklejtdfljlkgr</td>\n",
       "      <td>0</td>\n",
       "    </tr>\n",
       "    <tr>\n",
       "      <th>19</th>\n",
       "      <td>TRA20</td>\n",
       "      <td>merasa aneh</td>\n",
       "      <td>0</td>\n",
       "    </tr>\n",
       "    <tr>\n",
       "      <th>20</th>\n",
       "      <td>TRA21</td>\n",
       "      <td>satu tantangan yang akan dihadapi pengungsi ad...</td>\n",
       "      <td>1</td>\n",
       "    </tr>\n",
       "    <tr>\n",
       "      <th>21</th>\n",
       "      <td>TRA22</td>\n",
       "      <td>akan terjadinya perubahan tempat</td>\n",
       "      <td>0</td>\n",
       "    </tr>\n",
       "    <tr>\n",
       "      <th>22</th>\n",
       "      <td>TRA23</td>\n",
       "      <td>karena,akan ada bencana alam yang akan datang</td>\n",
       "      <td>0</td>\n",
       "    </tr>\n",
       "    <tr>\n",
       "      <th>23</th>\n",
       "      <td>TRA24</td>\n",
       "      <td>Mereka perlu adaptasi dan harus rela berpisah ...</td>\n",
       "      <td>1</td>\n",
       "    </tr>\n",
       "    <tr>\n",
       "      <th>24</th>\n",
       "      <td>TRA25</td>\n",
       "      <td>tidak terjamin dengan semua kebutuhannya, dan ...</td>\n",
       "      <td>1</td>\n",
       "    </tr>\n",
       "    <tr>\n",
       "      <th>25</th>\n",
       "      <td>TRA26</td>\n",
       "      <td>orang-orang yang trpaksa meninggalkan komunita...</td>\n",
       "      <td>0</td>\n",
       "    </tr>\n",
       "    <tr>\n",
       "      <th>26</th>\n",
       "      <td>TRA27</td>\n",
       "      <td>Mereka tidak akan mudah menyesuaikan hidup mer...</td>\n",
       "      <td>1</td>\n",
       "    </tr>\n",
       "    <tr>\n",
       "      <th>27</th>\n",
       "      <td>TRA28</td>\n",
       "      <td>mereka akan kehilangan sebagian besar atau bah...</td>\n",
       "      <td>1</td>\n",
       "    </tr>\n",
       "    <tr>\n",
       "      <th>28</th>\n",
       "      <td>TRA29</td>\n",
       "      <td>tidak mempunyai tempat yang tetap</td>\n",
       "      <td>1</td>\n",
       "    </tr>\n",
       "    <tr>\n",
       "      <th>29</th>\n",
       "      <td>TRA30</td>\n",
       "      <td>masalah yang dapatdidapatkan oleh pengngungsi ...</td>\n",
       "      <td>1</td>\n",
       "    </tr>\n",
       "    <tr>\n",
       "      <th>...</th>\n",
       "      <td>...</td>\n",
       "      <td>...</td>\n",
       "      <td>...</td>\n",
       "    </tr>\n",
       "    <tr>\n",
       "      <th>238</th>\n",
       "      <td>TRA239</td>\n",
       "      <td>jika nanti terjadi perubahan iklim gmna???</td>\n",
       "      <td>0</td>\n",
       "    </tr>\n",
       "    <tr>\n",
       "      <th>239</th>\n",
       "      <td>TRA240</td>\n",
       "      <td>Kedaan ini adalah pengecualian dan kehidupan o...</td>\n",
       "      <td>0</td>\n",
       "    </tr>\n",
       "    <tr>\n",
       "      <th>240</th>\n",
       "      <td>TRA241</td>\n",
       "      <td>cara menyesuaikan diri di lingkungannya baru</td>\n",
       "      <td>1</td>\n",
       "    </tr>\n",
       "    <tr>\n",
       "      <th>241</th>\n",
       "      <td>TRA242</td>\n",
       "      <td>Bagainmana jika pengungsi berpindah dari Travi...</td>\n",
       "      <td>0</td>\n",
       "    </tr>\n",
       "    <tr>\n",
       "      <th>242</th>\n",
       "      <td>TRA243</td>\n",
       "      <td>warga mungkin dipaksa untuk menjadi pengungsi ...</td>\n",
       "      <td>0</td>\n",
       "    </tr>\n",
       "    <tr>\n",
       "      <th>243</th>\n",
       "      <td>TRA244</td>\n",
       "      <td>tantangan yang paling utama adalah beradaptasi.</td>\n",
       "      <td>1</td>\n",
       "    </tr>\n",
       "    <tr>\n",
       "      <th>244</th>\n",
       "      <td>TRA245</td>\n",
       "      <td>mereka tidak dapat beradaptasi terhadap lingku...</td>\n",
       "      <td>1</td>\n",
       "    </tr>\n",
       "    <tr>\n",
       "      <th>245</th>\n",
       "      <td>TRA246</td>\n",
       "      <td>beradaptasi terhadap lingkungan yang baru</td>\n",
       "      <td>1</td>\n",
       "    </tr>\n",
       "    <tr>\n",
       "      <th>246</th>\n",
       "      <td>TRA247</td>\n",
       "      <td>terpaksa</td>\n",
       "      <td>0</td>\n",
       "    </tr>\n",
       "    <tr>\n",
       "      <th>247</th>\n",
       "      <td>TRA248</td>\n",
       "      <td>akan mendapatkan negara yang bagus dan aman.</td>\n",
       "      <td>0</td>\n",
       "    </tr>\n",
       "    <tr>\n",
       "      <th>248</th>\n",
       "      <td>TRA249</td>\n",
       "      <td>APA SATU</td>\n",
       "      <td>0</td>\n",
       "    </tr>\n",
       "    <tr>\n",
       "      <th>249</th>\n",
       "      <td>TRA250</td>\n",
       "      <td>beradaptasi</td>\n",
       "      <td>1</td>\n",
       "    </tr>\n",
       "    <tr>\n",
       "      <th>250</th>\n",
       "      <td>TRA251</td>\n",
       "      <td>mereka mungkin akan susah untuk beradaptasi de...</td>\n",
       "      <td>1</td>\n",
       "    </tr>\n",
       "    <tr>\n",
       "      <th>251</th>\n",
       "      <td>TRA252</td>\n",
       "      <td>pengungsi ikllim adalah orang-orang yang terpa...</td>\n",
       "      <td>0</td>\n",
       "    </tr>\n",
       "    <tr>\n",
       "      <th>252</th>\n",
       "      <td>TRA253</td>\n",
       "      <td>meminta bertanggung jawab</td>\n",
       "      <td>0</td>\n",
       "    </tr>\n",
       "    <tr>\n",
       "      <th>253</th>\n",
       "      <td>TRA254</td>\n",
       "      <td>bertempat tinggal dengan orang orang yang tida...</td>\n",
       "      <td>1</td>\n",
       "    </tr>\n",
       "    <tr>\n",
       "      <th>254</th>\n",
       "      <td>TRA255</td>\n",
       "      <td>Akan bertemu dengan orang-orang baru dan menda...</td>\n",
       "      <td>1</td>\n",
       "    </tr>\n",
       "    <tr>\n",
       "      <th>255</th>\n",
       "      <td>TRA256</td>\n",
       "      <td>susah beradaptasi</td>\n",
       "      <td>1</td>\n",
       "    </tr>\n",
       "    <tr>\n",
       "      <th>256</th>\n",
       "      <td>TRA257</td>\n",
       "      <td>pengungsi iklim akan pindah ketempat baru,mung...</td>\n",
       "      <td>1</td>\n",
       "    </tr>\n",
       "    <tr>\n",
       "      <th>257</th>\n",
       "      <td>TRA258</td>\n",
       "      <td>MEREKA AKAN MEMULAI KEHIDUPAN BARU,MEREKA PUN ...</td>\n",
       "      <td>1</td>\n",
       "    </tr>\n",
       "    <tr>\n",
       "      <th>258</th>\n",
       "      <td>TRA259</td>\n",
       "      <td>tidak nyaman,memikirkan tempat yang dulu ia te...</td>\n",
       "      <td>1</td>\n",
       "    </tr>\n",
       "    <tr>\n",
       "      <th>259</th>\n",
       "      <td>TRA260</td>\n",
       "      <td>harus menyesuaikan dengan linkungan baru</td>\n",
       "      <td>1</td>\n",
       "    </tr>\n",
       "    <tr>\n",
       "      <th>260</th>\n",
       "      <td>TRA261</td>\n",
       "      <td>tidak disukai oleh negara lain atau cuma menja...</td>\n",
       "      <td>0</td>\n",
       "    </tr>\n",
       "    <tr>\n",
       "      <th>261</th>\n",
       "      <td>TRA262</td>\n",
       "      <td>mereka akann kesusahan mencari pekerjaan karen...</td>\n",
       "      <td>1</td>\n",
       "    </tr>\n",
       "    <tr>\n",
       "      <th>262</th>\n",
       "      <td>TRA263</td>\n",
       "      <td>ia akan kehilangan lahan pertanian dan akan be...</td>\n",
       "      <td>1</td>\n",
       "    </tr>\n",
       "    <tr>\n",
       "      <th>263</th>\n",
       "      <td>TRA264</td>\n",
       "      <td>mereka harus belajar beradaptasi pada lingkung...</td>\n",
       "      <td>1</td>\n",
       "    </tr>\n",
       "    <tr>\n",
       "      <th>264</th>\n",
       "      <td>TRA265</td>\n",
       "      <td>Salah satu tantangan yang akan dihadapi para p...</td>\n",
       "      <td>1</td>\n",
       "    </tr>\n",
       "    <tr>\n",
       "      <th>265</th>\n",
       "      <td>TRA266</td>\n",
       "      <td>mereka akan menghadapi lingkungan lain yang mu...</td>\n",
       "      <td>1</td>\n",
       "    </tr>\n",
       "    <tr>\n",
       "      <th>266</th>\n",
       "      <td>TRA267</td>\n",
       "      <td>Mereka akan berbaur dengan orang-orang baru, B...</td>\n",
       "      <td>1</td>\n",
       "    </tr>\n",
       "    <tr>\n",
       "      <th>267</th>\n",
       "      <td>TRA268</td>\n",
       "      <td>Mencari tempat tinggal</td>\n",
       "      <td>1</td>\n",
       "    </tr>\n",
       "  </tbody>\n",
       "</table>\n",
       "<p>268 rows × 3 columns</p>\n",
       "</div>"
      ],
      "text/plain": [
       "     RES_ID                                           RESPONSE  LABEL\n",
       "0      TRA1  intetraksi/beradaptasi terhadap lingkungan yan...      1\n",
       "1      TRA2         seperti jatuhnya meteor tsunami gempa bumi      0\n",
       "2      TRA3      hanya tuhan yang tahu tantangan nya itu apaan      0\n",
       "3      TRA4                      mereka akan sulit beradaptasi      1\n",
       "4      TRA5             Tempat tinggal, ekonomi, dan pekerjaan      1\n",
       "5      TRA6  akan terganggu dengan kesehatanya karena merek...      1\n",
       "6      TRA7  Mereka tidak akan di hormati oleh orang layakn...      0\n",
       "7      TRA8            mereka akan kehilangan lahan pertanian.      1\n",
       "8      TRA9  Pada kasus-kasus seperti salah satunya yang te...      0\n",
       "9     TRA10                    mendapat musibah dan melawannya      0\n",
       "10    TRA11            karena mereka butuh tempat tinggal baru      1\n",
       "11    TRA12  Akan kehilangan tempat tinggal yang lama atau ...      0\n",
       "12    TRA13             mereka akan pindah ke tempat yang dulu      0\n",
       "13    TRA14                                        beradaptasi      1\n",
       "14    TRA15  Pengungsi iklim ini orang-orang yang terpaksa ...      0\n",
       "15    TRA16  karna mereka tidak mau terkena iklim yang sang...      0\n",
       "16    TRA17  keadaan yg tidak memadai serta kurangnya fasil...      1\n",
       "17    TRA18  Pengungsi iklim adalah orang-orang yang terpak...      0\n",
       "18    TRA19                            fkjgrioejtklejtdfljlkgr      0\n",
       "19    TRA20                                        merasa aneh      0\n",
       "20    TRA21  satu tantangan yang akan dihadapi pengungsi ad...      1\n",
       "21    TRA22                   akan terjadinya perubahan tempat      0\n",
       "22    TRA23      karena,akan ada bencana alam yang akan datang      0\n",
       "23    TRA24  Mereka perlu adaptasi dan harus rela berpisah ...      1\n",
       "24    TRA25  tidak terjamin dengan semua kebutuhannya, dan ...      1\n",
       "25    TRA26  orang-orang yang trpaksa meninggalkan komunita...      0\n",
       "26    TRA27  Mereka tidak akan mudah menyesuaikan hidup mer...      1\n",
       "27    TRA28  mereka akan kehilangan sebagian besar atau bah...      1\n",
       "28    TRA29                  tidak mempunyai tempat yang tetap      1\n",
       "29    TRA30  masalah yang dapatdidapatkan oleh pengngungsi ...      1\n",
       "..      ...                                                ...    ...\n",
       "238  TRA239         jika nanti terjadi perubahan iklim gmna???      0\n",
       "239  TRA240  Kedaan ini adalah pengecualian dan kehidupan o...      0\n",
       "240  TRA241       cara menyesuaikan diri di lingkungannya baru      1\n",
       "241  TRA242  Bagainmana jika pengungsi berpindah dari Travi...      0\n",
       "242  TRA243  warga mungkin dipaksa untuk menjadi pengungsi ...      0\n",
       "243  TRA244    tantangan yang paling utama adalah beradaptasi.      1\n",
       "244  TRA245  mereka tidak dapat beradaptasi terhadap lingku...      1\n",
       "245  TRA246          beradaptasi terhadap lingkungan yang baru      1\n",
       "246  TRA247                                           terpaksa      0\n",
       "247  TRA248       akan mendapatkan negara yang bagus dan aman.      0\n",
       "248  TRA249                                           APA SATU      0\n",
       "249  TRA250                                        beradaptasi      1\n",
       "250  TRA251  mereka mungkin akan susah untuk beradaptasi de...      1\n",
       "251  TRA252  pengungsi ikllim adalah orang-orang yang terpa...      0\n",
       "252  TRA253                          meminta bertanggung jawab      0\n",
       "253  TRA254  bertempat tinggal dengan orang orang yang tida...      1\n",
       "254  TRA255  Akan bertemu dengan orang-orang baru dan menda...      1\n",
       "255  TRA256                                  susah beradaptasi      1\n",
       "256  TRA257  pengungsi iklim akan pindah ketempat baru,mung...      1\n",
       "257  TRA258  MEREKA AKAN MEMULAI KEHIDUPAN BARU,MEREKA PUN ...      1\n",
       "258  TRA259  tidak nyaman,memikirkan tempat yang dulu ia te...      1\n",
       "259  TRA260           harus menyesuaikan dengan linkungan baru      1\n",
       "260  TRA261  tidak disukai oleh negara lain atau cuma menja...      0\n",
       "261  TRA262  mereka akann kesusahan mencari pekerjaan karen...      1\n",
       "262  TRA263  ia akan kehilangan lahan pertanian dan akan be...      1\n",
       "263  TRA264  mereka harus belajar beradaptasi pada lingkung...      1\n",
       "264  TRA265  Salah satu tantangan yang akan dihadapi para p...      1\n",
       "265  TRA266  mereka akan menghadapi lingkungan lain yang mu...      1\n",
       "266  TRA267  Mereka akan berbaur dengan orang-orang baru, B...      1\n",
       "267  TRA268                             Mencari tempat tinggal      1\n",
       "\n",
       "[268 rows x 3 columns]"
      ]
     },
     "execution_count": 12,
     "metadata": {},
     "output_type": "execute_result"
    }
   ],
   "source": [
    "d_train_a"
   ]
  },
  {
   "cell_type": "code",
   "execution_count": 10,
   "metadata": {},
   "outputs": [
    {
     "data": {
      "text/html": [
       "<div>\n",
       "<style scoped>\n",
       "    .dataframe tbody tr th:only-of-type {\n",
       "        vertical-align: middle;\n",
       "    }\n",
       "\n",
       "    .dataframe tbody tr th {\n",
       "        vertical-align: top;\n",
       "    }\n",
       "\n",
       "    .dataframe thead th {\n",
       "        text-align: right;\n",
       "    }\n",
       "</style>\n",
       "<table border=\"1\" class=\"dataframe\">\n",
       "  <thead>\n",
       "    <tr style=\"text-align: right;\">\n",
       "      <th></th>\n",
       "      <th>RES_ID</th>\n",
       "      <th>RESPONSE</th>\n",
       "    </tr>\n",
       "  </thead>\n",
       "  <tbody>\n",
       "    <tr>\n",
       "      <th>0</th>\n",
       "      <td>DEVA1</td>\n",
       "      <td>karena di tempat tnggalnya tidak aman karena b...</td>\n",
       "    </tr>\n",
       "    <tr>\n",
       "      <th>1</th>\n",
       "      <td>DEVA2</td>\n",
       "      <td>banyak yang menolak, susah mencari lapangan pe...</td>\n",
       "    </tr>\n",
       "    <tr>\n",
       "      <th>2</th>\n",
       "      <td>DEVA3</td>\n",
       "      <td>ah berkomunikasi dengan wilyah yang mereka tem...</td>\n",
       "    </tr>\n",
       "    <tr>\n",
       "      <th>3</th>\n",
       "      <td>DEVA4</td>\n",
       "      <td>tantangan yang akan mereka hadapi, seperti mer...</td>\n",
       "    </tr>\n",
       "    <tr>\n",
       "      <th>4</th>\n",
       "      <td>DEVA5</td>\n",
       "      <td>Mereka akan tidak terbiasa dengan tempat baru</td>\n",
       "    </tr>\n",
       "    <tr>\n",
       "      <th>5</th>\n",
       "      <td>DEVA6</td>\n",
       "      <td>kehilangan pekerjaan dan sumber daya yang ada ...</td>\n",
       "    </tr>\n",
       "    <tr>\n",
       "      <th>6</th>\n",
       "      <td>DEVA7</td>\n",
       "      <td>dengan sikap yang tenang</td>\n",
       "    </tr>\n",
       "    <tr>\n",
       "      <th>7</th>\n",
       "      <td>DEVA8</td>\n",
       "      <td>Mencari tempat pengungsian</td>\n",
       "    </tr>\n",
       "    <tr>\n",
       "      <th>8</th>\n",
       "      <td>DEVA9</td>\n",
       "      <td>cuaca/atau suasana di perjalanan</td>\n",
       "    </tr>\n",
       "    <tr>\n",
       "      <th>9</th>\n",
       "      <td>DEVA10</td>\n",
       "      <td>Pengungsi iklim lingkungan baru yang berbeda d...</td>\n",
       "    </tr>\n",
       "    <tr>\n",
       "      <th>10</th>\n",
       "      <td>DEVA11</td>\n",
       "      <td>Beradaptasi dengan lingkungan</td>\n",
       "    </tr>\n",
       "    <tr>\n",
       "      <th>11</th>\n",
       "      <td>DEVA12</td>\n",
       "      <td>mereka akan kehilangan ladan mereka karena har...</td>\n",
       "    </tr>\n",
       "    <tr>\n",
       "      <th>12</th>\n",
       "      <td>DEVA13</td>\n",
       "      <td>mereka meninggalkan sebuah kenangan yang sanga...</td>\n",
       "    </tr>\n",
       "    <tr>\n",
       "      <th>13</th>\n",
       "      <td>DEVA14</td>\n",
       "      <td>mereka akan meninggalkan tetengga meraka yg la...</td>\n",
       "    </tr>\n",
       "    <tr>\n",
       "      <th>14</th>\n",
       "      <td>DEVA15</td>\n",
       "      <td>mereka akan meninggalkan komunitas atau negaranya</td>\n",
       "    </tr>\n",
       "    <tr>\n",
       "      <th>15</th>\n",
       "      <td>DEVA16</td>\n",
       "      <td>sulit beradaptasi di tempat yang baru</td>\n",
       "    </tr>\n",
       "    <tr>\n",
       "      <th>16</th>\n",
       "      <td>DEVA17</td>\n",
       "      <td>mereka harus beradaptasi dengan iklim dan temb...</td>\n",
       "    </tr>\n",
       "    <tr>\n",
       "      <th>17</th>\n",
       "      <td>DEVA18</td>\n",
       "      <td>bencana lingkungan.</td>\n",
       "    </tr>\n",
       "    <tr>\n",
       "      <th>18</th>\n",
       "      <td>DEVA19</td>\n",
       "      <td>pengusi harus mendapat kesensarahan karena bec...</td>\n",
       "    </tr>\n",
       "    <tr>\n",
       "      <th>19</th>\n",
       "      <td>DEVA20</td>\n",
       "      <td>akan kehilangan mata pencarian</td>\n",
       "    </tr>\n",
       "    <tr>\n",
       "      <th>20</th>\n",
       "      <td>DEVA21</td>\n",
       "      <td>meskipun warga travina bisa pindah ke daratan ...</td>\n",
       "    </tr>\n",
       "    <tr>\n",
       "      <th>21</th>\n",
       "      <td>DEVA22</td>\n",
       "      <td>beradaptasi dengan tetanga baru</td>\n",
       "    </tr>\n",
       "    <tr>\n",
       "      <th>22</th>\n",
       "      <td>DEVA23</td>\n",
       "      <td>orang-orang terpaksa meninggalkan komunitas at...</td>\n",
       "    </tr>\n",
       "    <tr>\n",
       "      <th>23</th>\n",
       "      <td>DEVA24</td>\n",
       "      <td>Mencari pekerjaan di tempat yang baru karena p...</td>\n",
       "    </tr>\n",
       "    <tr>\n",
       "      <th>24</th>\n",
       "      <td>DEVA25</td>\n",
       "      <td>Mendukung</td>\n",
       "    </tr>\n",
       "    <tr>\n",
       "      <th>25</th>\n",
       "      <td>DEVA26</td>\n",
       "      <td>tantangan_tentang_tidak_kenyamanan.</td>\n",
       "    </tr>\n",
       "    <tr>\n",
       "      <th>26</th>\n",
       "      <td>DEVA27</td>\n",
       "      <td>mereka akan sulit menemukan tempat tinggal, ke...</td>\n",
       "    </tr>\n",
       "    <tr>\n",
       "      <th>27</th>\n",
       "      <td>DEVA28</td>\n",
       "      <td>HARUS BERADAPTASI DENGAN WARGA YANG ADA DISEKI...</td>\n",
       "    </tr>\n",
       "    <tr>\n",
       "      <th>28</th>\n",
       "      <td>DEVA29</td>\n",
       "      <td>mereka akan tetap menjaga agar tidak terjadi m...</td>\n",
       "    </tr>\n",
       "    <tr>\n",
       "      <th>29</th>\n",
       "      <td>DEVA30</td>\n",
       "      <td>mereka akan kehilangan sebagian besar dari lah...</td>\n",
       "    </tr>\n",
       "    <tr>\n",
       "      <th>...</th>\n",
       "      <td>...</td>\n",
       "      <td>...</td>\n",
       "    </tr>\n",
       "    <tr>\n",
       "      <th>185</th>\n",
       "      <td>DEVA186</td>\n",
       "      <td>Aakan berubah adaptasi dan sulit untuk memulai...</td>\n",
       "    </tr>\n",
       "    <tr>\n",
       "      <th>186</th>\n",
       "      <td>DEVA187</td>\n",
       "      <td>karena bencana lingkungan</td>\n",
       "    </tr>\n",
       "    <tr>\n",
       "      <th>187</th>\n",
       "      <td>DEVA188</td>\n",
       "      <td>mereka tidak terbiasa dengan iklim dan mereka ...</td>\n",
       "    </tr>\n",
       "    <tr>\n",
       "      <th>188</th>\n",
       "      <td>DEVA189</td>\n",
       "      <td>kehilangan tempat tinggal</td>\n",
       "    </tr>\n",
       "    <tr>\n",
       "      <th>189</th>\n",
       "      <td>DEVA190</td>\n",
       "      <td>hujan deras</td>\n",
       "    </tr>\n",
       "    <tr>\n",
       "      <th>190</th>\n",
       "      <td>DEVA191</td>\n",
       "      <td>Mebiasakan diri dengan kultur dan budaya baru ...</td>\n",
       "    </tr>\n",
       "    <tr>\n",
       "      <th>191</th>\n",
       "      <td>DEVA192</td>\n",
       "      <td>akan kehilangan apa yang ia miliki</td>\n",
       "    </tr>\n",
       "    <tr>\n",
       "      <th>192</th>\n",
       "      <td>DEVA193</td>\n",
       "      <td>mereka akan lebih sulit lagi beradaptasi denga...</td>\n",
       "    </tr>\n",
       "    <tr>\n",
       "      <th>193</th>\n",
       "      <td>DEVA194</td>\n",
       "      <td>harus bisa beradaptasi dengan lingkungan dan k...</td>\n",
       "    </tr>\n",
       "    <tr>\n",
       "      <th>194</th>\n",
       "      <td>DEVA195</td>\n",
       "      <td>karena orang-orang terpaksa meninggalkan komun...</td>\n",
       "    </tr>\n",
       "    <tr>\n",
       "      <th>195</th>\n",
       "      <td>DEVA196</td>\n",
       "      <td>mereka akan kesulitan menghidupi hidup mereka....</td>\n",
       "    </tr>\n",
       "    <tr>\n",
       "      <th>196</th>\n",
       "      <td>DEVA197</td>\n",
       "      <td>Mereka akan kehilangan sedikit atau banyaknya ...</td>\n",
       "    </tr>\n",
       "    <tr>\n",
       "      <th>197</th>\n",
       "      <td>DEVA198</td>\n",
       "      <td>ekonomi akan mencari nya lebih sulit</td>\n",
       "    </tr>\n",
       "    <tr>\n",
       "      <th>198</th>\n",
       "      <td>DEVA199</td>\n",
       "      <td>Pengungsi iklim adalah orang-orang yang terpak...</td>\n",
       "    </tr>\n",
       "    <tr>\n",
       "      <th>199</th>\n",
       "      <td>DEVA200</td>\n",
       "      <td>kehilangan daerah atau tanah yang mereka miliki</td>\n",
       "    </tr>\n",
       "    <tr>\n",
       "      <th>200</th>\n",
       "      <td>DEVA201</td>\n",
       "      <td>Harus beradaptasi dengan tempat baru</td>\n",
       "    </tr>\n",
       "    <tr>\n",
       "      <th>201</th>\n",
       "      <td>DEVA202</td>\n",
       "      <td>mengalami sakit karena perpindahan iklim kuran...</td>\n",
       "    </tr>\n",
       "    <tr>\n",
       "      <th>202</th>\n",
       "      <td>DEVA203</td>\n",
       "      <td>Beradaptasi dengan lingkungan baru, dan mau ti...</td>\n",
       "    </tr>\n",
       "    <tr>\n",
       "      <th>203</th>\n",
       "      <td>DEVA204</td>\n",
       "      <td>beradaptasi dengan lingkungan dan masyarakat baru</td>\n",
       "    </tr>\n",
       "    <tr>\n",
       "      <th>204</th>\n",
       "      <td>DEVA205</td>\n",
       "      <td>Akan terjadi pengesuaian terhadap tempat yany ...</td>\n",
       "    </tr>\n",
       "    <tr>\n",
       "      <th>205</th>\n",
       "      <td>DEVA206</td>\n",
       "      <td>pengungsi IKlim adalah orang orang yang terpak...</td>\n",
       "    </tr>\n",
       "    <tr>\n",
       "      <th>206</th>\n",
       "      <td>DEVA207</td>\n",
       "      <td>adaptasi lingkungan dan iklim yang ada di temp...</td>\n",
       "    </tr>\n",
       "    <tr>\n",
       "      <th>207</th>\n",
       "      <td>DEVA208</td>\n",
       "      <td>mereka harus membuat lapangan kerja baru</td>\n",
       "    </tr>\n",
       "    <tr>\n",
       "      <th>208</th>\n",
       "      <td>DEVA209</td>\n",
       "      <td>Pengungsi akan mengalami, krisis ekonomi untuk...</td>\n",
       "    </tr>\n",
       "    <tr>\n",
       "      <th>209</th>\n",
       "      <td>DEVA210</td>\n",
       "      <td>banyak yang harus dimulai dengan nol</td>\n",
       "    </tr>\n",
       "    <tr>\n",
       "      <th>210</th>\n",
       "      <td>DEVA211</td>\n",
       "      <td>pengungsi iklim</td>\n",
       "    </tr>\n",
       "    <tr>\n",
       "      <th>211</th>\n",
       "      <td>DEVA212</td>\n",
       "      <td>Pengungsi iklim adalah orang-orang yang terpak...</td>\n",
       "    </tr>\n",
       "    <tr>\n",
       "      <th>212</th>\n",
       "      <td>DEVA213</td>\n",
       "      <td>ketika mereka berpindah mereka akan kehilangan...</td>\n",
       "    </tr>\n",
       "    <tr>\n",
       "      <th>213</th>\n",
       "      <td>DEVA214</td>\n",
       "      <td>satu tantangan yang akan di hadapi para pengun...</td>\n",
       "    </tr>\n",
       "    <tr>\n",
       "      <th>214</th>\n",
       "      <td>DEVA215</td>\n",
       "      <td>mereka harus beradaptasi dengan lingkungan hid...</td>\n",
       "    </tr>\n",
       "  </tbody>\n",
       "</table>\n",
       "<p>215 rows × 2 columns</p>\n",
       "</div>"
      ],
      "text/plain": [
       "      RES_ID                                           RESPONSE\n",
       "0      DEVA1  karena di tempat tnggalnya tidak aman karena b...\n",
       "1      DEVA2  banyak yang menolak, susah mencari lapangan pe...\n",
       "2      DEVA3  ah berkomunikasi dengan wilyah yang mereka tem...\n",
       "3      DEVA4  tantangan yang akan mereka hadapi, seperti mer...\n",
       "4      DEVA5      Mereka akan tidak terbiasa dengan tempat baru\n",
       "5      DEVA6  kehilangan pekerjaan dan sumber daya yang ada ...\n",
       "6      DEVA7                           dengan sikap yang tenang\n",
       "7      DEVA8                         Mencari tempat pengungsian\n",
       "8      DEVA9                   cuaca/atau suasana di perjalanan\n",
       "9     DEVA10  Pengungsi iklim lingkungan baru yang berbeda d...\n",
       "10    DEVA11                      Beradaptasi dengan lingkungan\n",
       "11    DEVA12  mereka akan kehilangan ladan mereka karena har...\n",
       "12    DEVA13  mereka meninggalkan sebuah kenangan yang sanga...\n",
       "13    DEVA14  mereka akan meninggalkan tetengga meraka yg la...\n",
       "14    DEVA15  mereka akan meninggalkan komunitas atau negaranya\n",
       "15    DEVA16              sulit beradaptasi di tempat yang baru\n",
       "16    DEVA17  mereka harus beradaptasi dengan iklim dan temb...\n",
       "17    DEVA18                                bencana lingkungan.\n",
       "18    DEVA19  pengusi harus mendapat kesensarahan karena bec...\n",
       "19    DEVA20                     akan kehilangan mata pencarian\n",
       "20    DEVA21  meskipun warga travina bisa pindah ke daratan ...\n",
       "21    DEVA22                    beradaptasi dengan tetanga baru\n",
       "22    DEVA23  orang-orang terpaksa meninggalkan komunitas at...\n",
       "23    DEVA24  Mencari pekerjaan di tempat yang baru karena p...\n",
       "24    DEVA25                                          Mendukung\n",
       "25    DEVA26                tantangan_tentang_tidak_kenyamanan.\n",
       "26    DEVA27  mereka akan sulit menemukan tempat tinggal, ke...\n",
       "27    DEVA28  HARUS BERADAPTASI DENGAN WARGA YANG ADA DISEKI...\n",
       "28    DEVA29  mereka akan tetap menjaga agar tidak terjadi m...\n",
       "29    DEVA30  mereka akan kehilangan sebagian besar dari lah...\n",
       "..       ...                                                ...\n",
       "185  DEVA186  Aakan berubah adaptasi dan sulit untuk memulai...\n",
       "186  DEVA187                          karena bencana lingkungan\n",
       "187  DEVA188  mereka tidak terbiasa dengan iklim dan mereka ...\n",
       "188  DEVA189                          kehilangan tempat tinggal\n",
       "189  DEVA190                                        hujan deras\n",
       "190  DEVA191  Mebiasakan diri dengan kultur dan budaya baru ...\n",
       "191  DEVA192                 akan kehilangan apa yang ia miliki\n",
       "192  DEVA193  mereka akan lebih sulit lagi beradaptasi denga...\n",
       "193  DEVA194  harus bisa beradaptasi dengan lingkungan dan k...\n",
       "194  DEVA195  karena orang-orang terpaksa meninggalkan komun...\n",
       "195  DEVA196  mereka akan kesulitan menghidupi hidup mereka....\n",
       "196  DEVA197  Mereka akan kehilangan sedikit atau banyaknya ...\n",
       "197  DEVA198               ekonomi akan mencari nya lebih sulit\n",
       "198  DEVA199  Pengungsi iklim adalah orang-orang yang terpak...\n",
       "199  DEVA200    kehilangan daerah atau tanah yang mereka miliki\n",
       "200  DEVA201               Harus beradaptasi dengan tempat baru\n",
       "201  DEVA202  mengalami sakit karena perpindahan iklim kuran...\n",
       "202  DEVA203  Beradaptasi dengan lingkungan baru, dan mau ti...\n",
       "203  DEVA204  beradaptasi dengan lingkungan dan masyarakat baru\n",
       "204  DEVA205  Akan terjadi pengesuaian terhadap tempat yany ...\n",
       "205  DEVA206  pengungsi IKlim adalah orang orang yang terpak...\n",
       "206  DEVA207  adaptasi lingkungan dan iklim yang ada di temp...\n",
       "207  DEVA208           mereka harus membuat lapangan kerja baru\n",
       "208  DEVA209  Pengungsi akan mengalami, krisis ekonomi untuk...\n",
       "209  DEVA210               banyak yang harus dimulai dengan nol\n",
       "210  DEVA211                                    pengungsi iklim\n",
       "211  DEVA212  Pengungsi iklim adalah orang-orang yang terpak...\n",
       "212  DEVA213  ketika mereka berpindah mereka akan kehilangan...\n",
       "213  DEVA214  satu tantangan yang akan di hadapi para pengun...\n",
       "214  DEVA215  mereka harus beradaptasi dengan lingkungan hid...\n",
       "\n",
       "[215 rows x 2 columns]"
      ]
     },
     "execution_count": 10,
     "metadata": {},
     "output_type": "execute_result"
    }
   ],
   "source": [
    "d_dev_a"
   ]
  },
  {
   "cell_type": "code",
   "execution_count": 11,
   "metadata": {},
   "outputs": [
    {
     "data": {
      "text/plain": [
       "(268, 3)"
      ]
     },
     "execution_count": 11,
     "metadata": {},
     "output_type": "execute_result"
    }
   ],
   "source": [
    "d_train_a.shape"
   ]
  },
  {
   "cell_type": "code",
   "execution_count": 12,
   "metadata": {},
   "outputs": [
    {
     "data": {
      "text/plain": [
       "<matplotlib.axes._subplots.AxesSubplot at 0x2588c74bb70>"
      ]
     },
     "execution_count": 12,
     "metadata": {},
     "output_type": "execute_result"
    },
    {
     "data": {
      "image/png": "[encoded data removed]",
      "text/plain": [
       "<Figure size 432x288 with 1 Axes>"
      ]
     },
     "metadata": {
      "needs_background": "light"
     },
     "output_type": "display_data"
    }
   ],
   "source": [
    "sns.distplot(d_train_a.RESPONSE.str.len())"
   ]
  },
  {
   "cell_type": "code",
   "execution_count": 13,
   "metadata": {},
   "outputs": [
    {
     "data": {
      "text/plain": [
       "<matplotlib.axes._subplots.AxesSubplot at 0x2588ca4aac8>"
      ]
     },
     "execution_count": 13,
     "metadata": {},
     "output_type": "execute_result"
    },
    {
     "data": {
      "image/png": "[encoded data removed]",
      "text/plain": [
       "<Figure size 432x288 with 1 Axes>"
      ]
     },
     "metadata": {
      "needs_background": "light"
     },
     "output_type": "display_data"
    }
   ],
   "source": [
    "sns.distplot(d_train_b.RESPONSE.str.len())"
   ]
  },
  {
   "cell_type": "code",
   "execution_count": 14,
   "metadata": {},
   "outputs": [
    {
     "data": {
      "text/plain": [
       "<matplotlib.axes._subplots.AxesSubplot at 0x2588cb2bcc0>"
      ]
     },
     "execution_count": 14,
     "metadata": {},
     "output_type": "execute_result"
    },
    {
     "data": {
      "image/png": "[encoded data removed]",
      "text/plain": [
       "<Figure size 432x288 with 1 Axes>"
      ]
     },
     "metadata": {
      "needs_background": "light"
     },
     "output_type": "display_data"
    }
   ],
   "source": [
    "sns.distplot(d_dev_a.RESPONSE.str.len())"
   ]
  },
  {
   "cell_type": "code",
   "execution_count": 15,
   "metadata": {},
   "outputs": [
    {
     "data": {
      "text/plain": [
       "<matplotlib.axes._subplots.AxesSubplot at 0x2588cc1a080>"
      ]
     },
     "execution_count": 15,
     "metadata": {},
     "output_type": "execute_result"
    },
    {
     "data": {
      "image/png": "[encoded data removed]",
      "text/plain": [
       "<Figure size 432x288 with 1 Axes>"
      ]
     },
     "metadata": {
      "needs_background": "light"
     },
     "output_type": "display_data"
    }
   ],
   "source": [
    "sns.distplot(d_dev_b.RESPONSE.str.len())"
   ]
  },
  {
   "cell_type": "markdown",
   "metadata": {},
   "source": [
    "### Merging A and B"
   ]
  },
  {
   "cell_type": "code",
   "execution_count": 22,
   "metadata": {},
   "outputs": [],
   "source": [
    "d_train = d_train_a.append(d_train_b)"
   ]
  },
  {
   "cell_type": "code",
   "execution_count": 23,
   "metadata": {},
   "outputs": [],
   "source": [
    "d_train.reset_index(drop=True, inplace=True)"
   ]
  },
  {
   "cell_type": "code",
   "execution_count": 24,
   "metadata": {},
   "outputs": [],
   "source": [
    "d_train['RESPONSE'] = d_train.RESPONSE.str.lower()"
   ]
  },
  {
   "cell_type": "code",
   "execution_count": 25,
   "metadata": {},
   "outputs": [],
   "source": [
    "d_dev = d_dev_a.append(d_dev_b)"
   ]
  },
  {
   "cell_type": "code",
   "execution_count": 26,
   "metadata": {},
   "outputs": [],
   "source": [
    "d_dev.reset_index(drop = 1, inplace=True)"
   ]
  },
  {
   "cell_type": "code",
   "execution_count": 27,
   "metadata": {},
   "outputs": [],
   "source": [
    "d_dev['RESPONSE'] = d_dev.RESPONSE.str.lower()"
   ]
  },
  {
   "cell_type": "markdown",
   "metadata": {},
   "source": [
    "## get word frequency"
   ]
  },
  {
   "cell_type": "code",
   "execution_count": null,
   "metadata": {},
   "outputs": [],
   "source": [
    "word_list = word_tokenize(\" \".join(d_train.RESPONSE))"
   ]
  },
  {
   "cell_type": "code",
   "execution_count": null,
   "metadata": {},
   "outputs": [],
   "source": [
    "word_freq = dict(Counter(word_list))"
   ]
  },
  {
   "cell_type": "code",
   "execution_count": null,
   "metadata": {},
   "outputs": [],
   "source": [
    "d_word_freq = pd.DataFrame({'word': list(word_freq.keys()),'freq': list(word_freq.values())})"
   ]
  },
  {
   "cell_type": "code",
   "execution_count": null,
   "metadata": {},
   "outputs": [],
   "source": [
    "d_word_freq = d_word_freq[d_word_freq.word.str.len() > 1]"
   ]
  },
  {
   "cell_type": "code",
   "execution_count": null,
   "metadata": {},
   "outputs": [],
   "source": [
    "d_word_freq.sort_values(by = 'freq', ascending=0).to_csv('word_frequent.csv', index = False)"
   ]
  },
  {
   "cell_type": "markdown",
   "metadata": {},
   "source": [
    "## Counting OOV"
   ]
  },
  {
   "cell_type": "code",
   "execution_count": 29,
   "metadata": {},
   "outputs": [
    {
     "data": {
      "text/html": [
       "<div>\n",
       "<style scoped>\n",
       "    .dataframe tbody tr th:only-of-type {\n",
       "        vertical-align: middle;\n",
       "    }\n",
       "\n",
       "    .dataframe tbody tr th {\n",
       "        vertical-align: top;\n",
       "    }\n",
       "\n",
       "    .dataframe thead th {\n",
       "        text-align: right;\n",
       "    }\n",
       "</style>\n",
       "<table border=\"1\" class=\"dataframe\">\n",
       "  <thead>\n",
       "    <tr style=\"text-align: right;\">\n",
       "      <th></th>\n",
       "      <th>RES_ID</th>\n",
       "      <th>RESPONSE</th>\n",
       "      <th>LABEL</th>\n",
       "    </tr>\n",
       "  </thead>\n",
       "  <tbody>\n",
       "    <tr>\n",
       "      <th>0</th>\n",
       "      <td>TRA1</td>\n",
       "      <td>intetraksi/beradaptasi terhadap lingkungan yan...</td>\n",
       "      <td>1</td>\n",
       "    </tr>\n",
       "    <tr>\n",
       "      <th>1</th>\n",
       "      <td>TRA2</td>\n",
       "      <td>seperti jatuhnya meteor tsunami gempa bumi</td>\n",
       "      <td>0</td>\n",
       "    </tr>\n",
       "    <tr>\n",
       "      <th>2</th>\n",
       "      <td>TRA3</td>\n",
       "      <td>hanya tuhan yang tahu tantangan nya itu apaan</td>\n",
       "      <td>0</td>\n",
       "    </tr>\n",
       "    <tr>\n",
       "      <th>3</th>\n",
       "      <td>TRA4</td>\n",
       "      <td>mereka akan sulit beradaptasi</td>\n",
       "      <td>1</td>\n",
       "    </tr>\n",
       "    <tr>\n",
       "      <th>4</th>\n",
       "      <td>TRA5</td>\n",
       "      <td>tempat tinggal, ekonomi, dan pekerjaan</td>\n",
       "      <td>1</td>\n",
       "    </tr>\n",
       "  </tbody>\n",
       "</table>\n",
       "</div>"
      ],
      "text/plain": [
       "  RES_ID                                           RESPONSE  LABEL\n",
       "0   TRA1  intetraksi/beradaptasi terhadap lingkungan yan...      1\n",
       "1   TRA2         seperti jatuhnya meteor tsunami gempa bumi      0\n",
       "2   TRA3      hanya tuhan yang tahu tantangan nya itu apaan      0\n",
       "3   TRA4                      mereka akan sulit beradaptasi      1\n",
       "4   TRA5             tempat tinggal, ekonomi, dan pekerjaan      1"
      ]
     },
     "execution_count": 29,
     "metadata": {},
     "output_type": "execute_result"
    }
   ],
   "source": [
    "d_train.head()"
   ]
  },
  {
   "cell_type": "code",
   "execution_count": 30,
   "metadata": {},
   "outputs": [
    {
     "data": {
      "text/html": [
       "<div>\n",
       "<style scoped>\n",
       "    .dataframe tbody tr th:only-of-type {\n",
       "        vertical-align: middle;\n",
       "    }\n",
       "\n",
       "    .dataframe tbody tr th {\n",
       "        vertical-align: top;\n",
       "    }\n",
       "\n",
       "    .dataframe thead th {\n",
       "        text-align: right;\n",
       "    }\n",
       "</style>\n",
       "<table border=\"1\" class=\"dataframe\">\n",
       "  <thead>\n",
       "    <tr style=\"text-align: right;\">\n",
       "      <th></th>\n",
       "      <th>RES_ID</th>\n",
       "      <th>RESPONSE</th>\n",
       "    </tr>\n",
       "  </thead>\n",
       "  <tbody>\n",
       "    <tr>\n",
       "      <th>0</th>\n",
       "      <td>DEVA1</td>\n",
       "      <td>karena di tempat tnggalnya tidak aman karena b...</td>\n",
       "    </tr>\n",
       "    <tr>\n",
       "      <th>1</th>\n",
       "      <td>DEVA2</td>\n",
       "      <td>banyak yang menolak, susah mencari lapangan pe...</td>\n",
       "    </tr>\n",
       "    <tr>\n",
       "      <th>2</th>\n",
       "      <td>DEVA3</td>\n",
       "      <td>ah berkomunikasi dengan wilyah yang mereka tem...</td>\n",
       "    </tr>\n",
       "    <tr>\n",
       "      <th>3</th>\n",
       "      <td>DEVA4</td>\n",
       "      <td>tantangan yang akan mereka hadapi, seperti mer...</td>\n",
       "    </tr>\n",
       "    <tr>\n",
       "      <th>4</th>\n",
       "      <td>DEVA5</td>\n",
       "      <td>mereka akan tidak terbiasa dengan tempat baru</td>\n",
       "    </tr>\n",
       "  </tbody>\n",
       "</table>\n",
       "</div>"
      ],
      "text/plain": [
       "  RES_ID                                           RESPONSE\n",
       "0  DEVA1  karena di tempat tnggalnya tidak aman karena b...\n",
       "1  DEVA2  banyak yang menolak, susah mencari lapangan pe...\n",
       "2  DEVA3  ah berkomunikasi dengan wilyah yang mereka tem...\n",
       "3  DEVA4  tantangan yang akan mereka hadapi, seperti mer...\n",
       "4  DEVA5      mereka akan tidak terbiasa dengan tempat baru"
      ]
     },
     "execution_count": 30,
     "metadata": {},
     "output_type": "execute_result"
    }
   ],
   "source": [
    "d_dev.head()"
   ]
  },
  {
   "cell_type": "code",
   "execution_count": 36,
   "metadata": {},
   "outputs": [],
   "source": [
    "text_train = \" \".join(list(d_train.RESPONSE))"
   ]
  },
  {
   "cell_type": "code",
   "execution_count": 37,
   "metadata": {},
   "outputs": [],
   "source": [
    "text_dev = \" \".join(list(d_dev.RESPONSE))"
   ]
  },
  {
   "cell_type": "code",
   "execution_count": 40,
   "metadata": {},
   "outputs": [],
   "source": [
    "text_train_unique = set(word_tokenize(text_train))\n",
    "text_dev_unique = set(word_tokenize(text_dev))"
   ]
  },
  {
   "cell_type": "code",
   "execution_count": 43,
   "metadata": {},
   "outputs": [],
   "source": [
    "only_train_exist = text_train_unique - text_dev_unique\n",
    "only_dev_exist = text_dev_unique - text_train_unique"
   ]
  },
  {
   "cell_type": "code",
   "execution_count": 46,
   "metadata": {},
   "outputs": [
    {
     "data": {
      "text/plain": [
       "1169"
      ]
     },
     "execution_count": 46,
     "metadata": {},
     "output_type": "execute_result"
    }
   ],
   "source": [
    "len(text_train_unique)"
   ]
  },
  {
   "cell_type": "code",
   "execution_count": 47,
   "metadata": {},
   "outputs": [
    {
     "data": {
      "text/plain": [
       "1005"
      ]
     },
     "execution_count": 47,
     "metadata": {},
     "output_type": "execute_result"
    }
   ],
   "source": [
    "len(text_dev_unique)"
   ]
  },
  {
   "cell_type": "code",
   "execution_count": 45,
   "metadata": {},
   "outputs": [
    {
     "data": {
      "text/plain": [
       "617"
      ]
     },
     "execution_count": 45,
     "metadata": {},
     "output_type": "execute_result"
    }
   ],
   "source": [
    "len(only_train_exist)"
   ]
  },
  {
   "cell_type": "code",
   "execution_count": 44,
   "metadata": {},
   "outputs": [
    {
     "data": {
      "text/plain": [
       "453"
      ]
     },
     "execution_count": 44,
     "metadata": {},
     "output_type": "execute_result"
    }
   ],
   "source": [
    "len(only_dev_exist)"
   ]
  },
  {
   "cell_type": "code",
   "execution_count": 48,
   "metadata": {},
   "outputs": [],
   "source": [
    "oov_rate = (len(only_dev_exist) / len(text_train_unique)) * 100"
   ]
  },
  {
   "cell_type": "code",
   "execution_count": 49,
   "metadata": {},
   "outputs": [
    {
     "name": "stdout",
     "output_type": "stream",
     "text": [
      "Out of Vocabulary Rate: 38.75106928999145\n"
     ]
    }
   ],
   "source": [
    "print(\"Out of Vocabulary Rate:\", oov_rate)"
   ]
  },
  {
   "cell_type": "markdown",
   "metadata": {},
   "source": [
    "## Stemming"
   ]
  },
  {
   "cell_type": "code",
   "execution_count": 50,
   "metadata": {},
   "outputs": [],
   "source": [
    "from Sastrawi.Stemmer.StemmerFactory import StemmerFactory"
   ]
  },
  {
   "cell_type": "code",
   "execution_count": 51,
   "metadata": {},
   "outputs": [],
   "source": [
    "factory = StemmerFactory()\n",
    "stemmer = factory.create_stemmer()"
   ]
  },
  {
   "cell_type": "code",
   "execution_count": 57,
   "metadata": {},
   "outputs": [],
   "source": [
    "text_train_stem = stemmer.stem(text_train_for_stem)\n",
    "text_dev_stem = stemmer.stem(text_dev_for_stem)"
   ]
  },
  {
   "cell_type": "code",
   "execution_count": 58,
   "metadata": {},
   "outputs": [],
   "source": [
    "text_train_unique_stem = set(word_tokenize(text_train_stem))\n",
    "text_dev_unique_stem = set(word_tokenize(text_dev_stem))"
   ]
  },
  {
   "cell_type": "code",
   "execution_count": 60,
   "metadata": {},
   "outputs": [],
   "source": [
    "oov_stem = text_dev_unique_stem - text_train_unique_stem"
   ]
  },
  {
   "cell_type": "code",
   "execution_count": 62,
   "metadata": {},
   "outputs": [],
   "source": [
    "oov_rate = (len(oov_stem) / len(text_train_unique_stem)) * 100"
   ]
  },
  {
   "cell_type": "code",
   "execution_count": 63,
   "metadata": {},
   "outputs": [
    {
     "name": "stdout",
     "output_type": "stream",
     "text": [
      "Out of Vocabulary after Stemming: 36.39705882352941\n"
     ]
    }
   ],
   "source": [
    "print(\"Out of Vocabulary after Stemming:\", oov_rate)"
   ]
  },
  {
   "cell_type": "code",
   "execution_count": null,
   "metadata": {},
   "outputs": [],
   "source": []
  }
 ],
 "metadata": {
  "kernelspec": {
   "display_name": "Python 3",
   "language": "python",
   "name": "python3"
  },
  "language_info": {
   "codemirror_mode": {
    "name": "ipython",
    "version": 3
   },
   "file_extension": ".py",
   "mimetype": "text/x-python",
   "name": "python",
   "nbconvert_exporter": "python",
   "pygments_lexer": "ipython3",
   "version": "3.7.3"
  }
 },
 "nbformat": 4,
 "nbformat_minor": 2
}
